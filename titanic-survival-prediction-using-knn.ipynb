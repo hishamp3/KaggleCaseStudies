{
 "cells": [
  {
   "cell_type": "code",
   "execution_count": 1,
   "id": "a5588d90",
   "metadata": {
    "_cell_guid": "b1076dfc-b9ad-4769-8c92-a6c4dae69d19",
    "_uuid": "8f2839f25d086af736a60e9eeb907d3b93b6e0e5",
    "execution": {
     "iopub.execute_input": "2022-04-02T11:17:31.273079Z",
     "iopub.status.busy": "2022-04-02T11:17:31.267957Z",
     "iopub.status.idle": "2022-04-02T11:17:31.279139Z",
     "shell.execute_reply": "2022-04-02T11:17:31.279889Z",
     "shell.execute_reply.started": "2022-04-02T10:59:32.444726Z"
    },
    "papermill": {
     "duration": 0.055406,
     "end_time": "2022-04-02T11:17:31.280265",
     "exception": false,
     "start_time": "2022-04-02T11:17:31.224859",
     "status": "completed"
    },
    "tags": []
   },
   "outputs": [],
   "source": [
    "# This Python 3 environment comes with many helpful analytics libraries installed\n",
    "# It is defined by the kaggle/python Docker image: https://github.com/kaggle/docker-python\n",
    "# For example, here's several helpful packages to load\n",
    "\n",
    "import numpy as np # linear algebra\n",
    "import pandas as pd # data processing, CSV file I/O (e.g. pd.read_csv)\n",
    "\n",
    "# Input data files are available in the read-only \"../input/\" directory\n",
    "# For example, running this (by clicking run or pressing Shift+Enter) will list all files under the input directory\n",
    "\n",
    "import os\n",
    "for dirname, _, filenames in os.walk('/kaggle/input'):\n",
    "    for filename in filenames:\n",
    "        print(os.path.join(dirname, filename))\n",
    "\n",
    "# You can write up to 20GB to the current directory (/kaggle/working/) that gets preserved as output when you create a version using \"Save & Run All\" \n",
    "# You can also write temporary files to /kaggle/temp/, but they won't be saved outside of the current session"
   ]
  },
  {
   "cell_type": "markdown",
   "id": "3c830b38",
   "metadata": {
    "papermill": {
     "duration": 0.031602,
     "end_time": "2022-04-02T11:17:31.345819",
     "exception": false,
     "start_time": "2022-04-02T11:17:31.314217",
     "status": "completed"
    },
    "tags": []
   },
   "source": [
    "**STEPS**\n",
    "* Problem Definition\n",
    "* Exploration\n",
    "* Data Preprocessing\n",
    "* Modelling \n",
    "* Evaluation"
   ]
  },
  {
   "cell_type": "markdown",
   "id": "2bedee82",
   "metadata": {
    "papermill": {
     "duration": 0.031895,
     "end_time": "2022-04-02T11:17:31.411510",
     "exception": false,
     "start_time": "2022-04-02T11:17:31.379615",
     "status": "completed"
    },
    "tags": []
   },
   "source": [
    "# Problem Definition\n",
    "* ML model which predicts passengers who survived the titanic sinking.\n",
    "* algorithm : K-nearest neighbors algorithm used for modelling\n",
    "* Output (Predictions) : Survived (0 for deceased and 1 for survived)"
   ]
  },
  {
   "cell_type": "markdown",
   "id": "6b9c6d19",
   "metadata": {
    "papermill": {
     "duration": 0.031397,
     "end_time": "2022-04-02T11:17:31.474869",
     "exception": false,
     "start_time": "2022-04-02T11:17:31.443472",
     "status": "completed"
    },
    "tags": []
   },
   "source": [
    "# Exploration"
   ]
  },
  {
   "cell_type": "code",
   "execution_count": 2,
   "id": "31eafa8b",
   "metadata": {
    "execution": {
     "iopub.execute_input": "2022-04-02T11:17:31.546117Z",
     "iopub.status.busy": "2022-04-02T11:17:31.545387Z",
     "iopub.status.idle": "2022-04-02T11:17:32.705807Z",
     "shell.execute_reply": "2022-04-02T11:17:32.704998Z",
     "shell.execute_reply.started": "2022-04-02T10:59:32.539449Z"
    },
    "papermill": {
     "duration": 1.1993,
     "end_time": "2022-04-02T11:17:32.706072",
     "exception": false,
     "start_time": "2022-04-02T11:17:31.506772",
     "status": "completed"
    },
    "tags": []
   },
   "outputs": [],
   "source": [
    "# Importing libraries\n",
    "import matplotlib.pyplot as plt\n",
    "import seaborn as sns\n",
    "%matplotlib inline"
   ]
  },
  {
   "cell_type": "code",
   "execution_count": 3,
   "id": "8167f99c",
   "metadata": {
    "execution": {
     "iopub.execute_input": "2022-04-02T11:17:32.788247Z",
     "iopub.status.busy": "2022-04-02T11:17:32.787402Z",
     "iopub.status.idle": "2022-04-02T11:17:32.813048Z",
     "shell.execute_reply": "2022-04-02T11:17:32.813664Z",
     "shell.execute_reply.started": "2022-04-02T10:59:32.632514Z"
    },
    "papermill": {
     "duration": 0.067816,
     "end_time": "2022-04-02T11:17:32.813876",
     "exception": false,
     "start_time": "2022-04-02T11:17:32.746060",
     "status": "completed"
    },
    "tags": []
   },
   "outputs": [],
   "source": [
    "# Reading the files\n",
    "train_data = pd.read_csv('./titanic/train.csv')\n",
    "test_data = pd.read_csv('./titanic/test.csv')"
   ]
  },
  {
   "cell_type": "code",
   "execution_count": 4,
   "id": "c20ea0ca",
   "metadata": {
    "execution": {
     "iopub.execute_input": "2022-04-02T11:17:32.889297Z",
     "iopub.status.busy": "2022-04-02T11:17:32.888570Z",
     "iopub.status.idle": "2022-04-02T11:17:32.914769Z",
     "shell.execute_reply": "2022-04-02T11:17:32.915275Z",
     "shell.execute_reply.started": "2022-04-02T10:59:32.722755Z"
    },
    "papermill": {
     "duration": 0.064813,
     "end_time": "2022-04-02T11:17:32.915502",
     "exception": false,
     "start_time": "2022-04-02T11:17:32.850689",
     "status": "completed"
    },
    "tags": []
   },
   "outputs": [
    {
     "name": "stdout",
     "output_type": "stream",
     "text": [
      "<class 'pandas.core.frame.DataFrame'>\n",
      "RangeIndex: 418 entries, 0 to 417\n",
      "Data columns (total 11 columns):\n",
      " #   Column       Non-Null Count  Dtype  \n",
      "---  ------       --------------  -----  \n",
      " 0   PassengerId  418 non-null    int64  \n",
      " 1   Pclass       418 non-null    int64  \n",
      " 2   Name         418 non-null    object \n",
      " 3   Sex          418 non-null    object \n",
      " 4   Age          332 non-null    float64\n",
      " 5   SibSp        418 non-null    int64  \n",
      " 6   Parch        418 non-null    int64  \n",
      " 7   Ticket       418 non-null    object \n",
      " 8   Fare         417 non-null    float64\n",
      " 9   Cabin        91 non-null     object \n",
      " 10  Embarked     418 non-null    object \n",
      "dtypes: float64(2), int64(4), object(5)\n",
      "memory usage: 36.0+ KB\n"
     ]
    }
   ],
   "source": [
    "# test data info\n",
    "test_data.info()"
   ]
  },
  {
   "cell_type": "code",
   "execution_count": 5,
   "id": "5e6a8a60",
   "metadata": {
    "execution": {
     "iopub.execute_input": "2022-04-02T11:17:32.994020Z",
     "iopub.status.busy": "2022-04-02T11:17:32.993343Z",
     "iopub.status.idle": "2022-04-02T11:17:33.003815Z",
     "shell.execute_reply": "2022-04-02T11:17:33.004332Z",
     "shell.execute_reply.started": "2022-04-02T10:59:32.810395Z"
    },
    "papermill": {
     "duration": 0.05442,
     "end_time": "2022-04-02T11:17:33.004522",
     "exception": false,
     "start_time": "2022-04-02T11:17:32.950102",
     "status": "completed"
    },
    "tags": []
   },
   "outputs": [
    {
     "name": "stdout",
     "output_type": "stream",
     "text": [
      "<class 'pandas.core.frame.DataFrame'>\n",
      "RangeIndex: 891 entries, 0 to 890\n",
      "Data columns (total 12 columns):\n",
      " #   Column       Non-Null Count  Dtype  \n",
      "---  ------       --------------  -----  \n",
      " 0   PassengerId  891 non-null    int64  \n",
      " 1   Survived     891 non-null    int64  \n",
      " 2   Pclass       891 non-null    int64  \n",
      " 3   Name         891 non-null    object \n",
      " 4   Sex          891 non-null    object \n",
      " 5   Age          714 non-null    float64\n",
      " 6   SibSp        891 non-null    int64  \n",
      " 7   Parch        891 non-null    int64  \n",
      " 8   Ticket       891 non-null    object \n",
      " 9   Fare         891 non-null    float64\n",
      " 10  Cabin        204 non-null    object \n",
      " 11  Embarked     889 non-null    object \n",
      "dtypes: float64(2), int64(5), object(5)\n",
      "memory usage: 83.7+ KB\n"
     ]
    }
   ],
   "source": [
    "# train data info\n",
    "train_data.info()"
   ]
  },
  {
   "cell_type": "markdown",
   "id": "7c201c37",
   "metadata": {
    "papermill": {
     "duration": 0.033007,
     "end_time": "2022-04-02T11:17:33.070965",
     "exception": false,
     "start_time": "2022-04-02T11:17:33.037958",
     "status": "completed"
    },
    "tags": []
   },
   "source": [
    "* Cabin to be dropped as more than half are null.\n",
    "* Age to be imputed using KNN imputer\n",
    "* PassengerId , Name and Ticket canbe dropped\n",
    "* Sex and Embarked are categorical which canbe encoded."
   ]
  },
  {
   "cell_type": "code",
   "execution_count": 6,
   "id": "9c772199",
   "metadata": {
    "execution": {
     "iopub.execute_input": "2022-04-02T11:17:33.148076Z",
     "iopub.status.busy": "2022-04-02T11:17:33.146989Z",
     "iopub.status.idle": "2022-04-02T11:17:33.188308Z",
     "shell.execute_reply": "2022-04-02T11:17:33.188866Z",
     "shell.execute_reply.started": "2022-04-02T10:59:32.901062Z"
    },
    "papermill": {
     "duration": 0.084848,
     "end_time": "2022-04-02T11:17:33.189070",
     "exception": false,
     "start_time": "2022-04-02T11:17:33.104222",
     "status": "completed"
    },
    "tags": []
   },
   "outputs": [
    {
     "data": {
      "text/html": [
       "<div>\n",
       "<style scoped>\n",
       "    .dataframe tbody tr th:only-of-type {\n",
       "        vertical-align: middle;\n",
       "    }\n",
       "\n",
       "    .dataframe tbody tr th {\n",
       "        vertical-align: top;\n",
       "    }\n",
       "\n",
       "    .dataframe thead th {\n",
       "        text-align: right;\n",
       "    }\n",
       "</style>\n",
       "<table border=\"1\" class=\"dataframe\">\n",
       "  <thead>\n",
       "    <tr style=\"text-align: right;\">\n",
       "      <th></th>\n",
       "      <th>count</th>\n",
       "      <th>mean</th>\n",
       "      <th>std</th>\n",
       "      <th>min</th>\n",
       "      <th>25%</th>\n",
       "      <th>50%</th>\n",
       "      <th>75%</th>\n",
       "      <th>max</th>\n",
       "    </tr>\n",
       "  </thead>\n",
       "  <tbody>\n",
       "    <tr>\n",
       "      <th>PassengerId</th>\n",
       "      <td>891.0</td>\n",
       "      <td>446.000000</td>\n",
       "      <td>257.353842</td>\n",
       "      <td>1.00</td>\n",
       "      <td>223.5000</td>\n",
       "      <td>446.0000</td>\n",
       "      <td>668.5</td>\n",
       "      <td>891.0000</td>\n",
       "    </tr>\n",
       "    <tr>\n",
       "      <th>Survived</th>\n",
       "      <td>891.0</td>\n",
       "      <td>0.383838</td>\n",
       "      <td>0.486592</td>\n",
       "      <td>0.00</td>\n",
       "      <td>0.0000</td>\n",
       "      <td>0.0000</td>\n",
       "      <td>1.0</td>\n",
       "      <td>1.0000</td>\n",
       "    </tr>\n",
       "    <tr>\n",
       "      <th>Pclass</th>\n",
       "      <td>891.0</td>\n",
       "      <td>2.308642</td>\n",
       "      <td>0.836071</td>\n",
       "      <td>1.00</td>\n",
       "      <td>2.0000</td>\n",
       "      <td>3.0000</td>\n",
       "      <td>3.0</td>\n",
       "      <td>3.0000</td>\n",
       "    </tr>\n",
       "    <tr>\n",
       "      <th>Age</th>\n",
       "      <td>714.0</td>\n",
       "      <td>29.699118</td>\n",
       "      <td>14.526497</td>\n",
       "      <td>0.42</td>\n",
       "      <td>20.1250</td>\n",
       "      <td>28.0000</td>\n",
       "      <td>38.0</td>\n",
       "      <td>80.0000</td>\n",
       "    </tr>\n",
       "    <tr>\n",
       "      <th>SibSp</th>\n",
       "      <td>891.0</td>\n",
       "      <td>0.523008</td>\n",
       "      <td>1.102743</td>\n",
       "      <td>0.00</td>\n",
       "      <td>0.0000</td>\n",
       "      <td>0.0000</td>\n",
       "      <td>1.0</td>\n",
       "      <td>8.0000</td>\n",
       "    </tr>\n",
       "    <tr>\n",
       "      <th>Parch</th>\n",
       "      <td>891.0</td>\n",
       "      <td>0.381594</td>\n",
       "      <td>0.806057</td>\n",
       "      <td>0.00</td>\n",
       "      <td>0.0000</td>\n",
       "      <td>0.0000</td>\n",
       "      <td>0.0</td>\n",
       "      <td>6.0000</td>\n",
       "    </tr>\n",
       "    <tr>\n",
       "      <th>Fare</th>\n",
       "      <td>891.0</td>\n",
       "      <td>32.204208</td>\n",
       "      <td>49.693429</td>\n",
       "      <td>0.00</td>\n",
       "      <td>7.9104</td>\n",
       "      <td>14.4542</td>\n",
       "      <td>31.0</td>\n",
       "      <td>512.3292</td>\n",
       "    </tr>\n",
       "  </tbody>\n",
       "</table>\n",
       "</div>"
      ],
      "text/plain": [
       "             count        mean         std   min       25%       50%    75%  \\\n",
       "PassengerId  891.0  446.000000  257.353842  1.00  223.5000  446.0000  668.5   \n",
       "Survived     891.0    0.383838    0.486592  0.00    0.0000    0.0000    1.0   \n",
       "Pclass       891.0    2.308642    0.836071  1.00    2.0000    3.0000    3.0   \n",
       "Age          714.0   29.699118   14.526497  0.42   20.1250   28.0000   38.0   \n",
       "SibSp        891.0    0.523008    1.102743  0.00    0.0000    0.0000    1.0   \n",
       "Parch        891.0    0.381594    0.806057  0.00    0.0000    0.0000    0.0   \n",
       "Fare         891.0   32.204208   49.693429  0.00    7.9104   14.4542   31.0   \n",
       "\n",
       "                  max  \n",
       "PassengerId  891.0000  \n",
       "Survived       1.0000  \n",
       "Pclass         3.0000  \n",
       "Age           80.0000  \n",
       "SibSp          8.0000  \n",
       "Parch          6.0000  \n",
       "Fare         512.3292  "
      ]
     },
     "execution_count": 6,
     "metadata": {},
     "output_type": "execute_result"
    }
   ],
   "source": [
    "# Basic info of train data\n",
    "train_data.describe().T"
   ]
  },
  {
   "cell_type": "code",
   "execution_count": 7,
   "id": "29d82df8",
   "metadata": {
    "execution": {
     "iopub.execute_input": "2022-04-02T11:17:33.267884Z",
     "iopub.status.busy": "2022-04-02T11:17:33.267020Z",
     "iopub.status.idle": "2022-04-02T11:17:33.474968Z",
     "shell.execute_reply": "2022-04-02T11:17:33.474373Z",
     "shell.execute_reply.started": "2022-04-02T10:59:32.984597Z"
    },
    "papermill": {
     "duration": 0.251501,
     "end_time": "2022-04-02T11:17:33.475144",
     "exception": false,
     "start_time": "2022-04-02T11:17:33.223643",
     "status": "completed"
    },
    "tags": []
   },
   "outputs": [
    {
     "data": {
      "image/png": "[encoded data removed]",
      "text/plain": [
       "<Figure size 432x288 with 1 Axes>"
      ]
     },
     "metadata": {
      "needs_background": "light"
     },
     "output_type": "display_data"
    }
   ],
   "source": [
    "# Surviours plot\n",
    "df = pd.DataFrame({'Survived':['0', '1'], 'Count':[len(train_data.loc[train_data['Survived'] == 0]),len(train_data.loc[train_data['Survived'] == 1])]})\n",
    "ax = df.plot.bar(x='Survived', y='Count',rot=0)"
   ]
  },
  {
   "cell_type": "code",
   "execution_count": 8,
   "id": "1e756c06",
   "metadata": {
    "execution": {
     "iopub.execute_input": "2022-04-02T11:17:33.581349Z",
     "iopub.status.busy": "2022-04-02T11:17:33.575162Z",
     "iopub.status.idle": "2022-04-02T11:17:34.627105Z",
     "shell.execute_reply": "2022-04-02T11:17:34.627674Z",
     "shell.execute_reply.started": "2022-04-02T11:07:32.920485Z"
    },
    "papermill": {
     "duration": 1.114012,
     "end_time": "2022-04-02T11:17:34.627861",
     "exception": false,
     "start_time": "2022-04-02T11:17:33.513849",
     "status": "completed"
    },
    "tags": []
   },
   "outputs": [
    {
     "data": {
      "image/png": "[encoded data removed]",
      "text/plain": [
       "<Figure size 792x792 with 5 Axes>"
      ]
     },
     "metadata": {
      "needs_background": "light"
     },
     "output_type": "display_data"
    }
   ],
   "source": [
    "# plots of Survivals based on Features\n",
    "plot_features = ['Pclass', 'Sex','SibSp', 'Parch','Embarked']\n",
    "\n",
    "plt.figure(figsize=(11,11))\n",
    "for i,col in enumerate(plot_features):\n",
    "    plt.subplot(2,3,i+1)\n",
    "    ax = sns.countplot(data=train_data,x = col,hue='Survived')\n",
    "    for j in range(len(ax.containers)):\n",
    "        ax.bar_label(ax.containers[j])\n",
    "    plt.title(f'{col} Plot')\n",
    "\n",
    "plt.show()"
   ]
  },
  {
   "cell_type": "code",
   "execution_count": 9,
   "id": "e31f1e3e",
   "metadata": {
    "execution": {
     "iopub.execute_input": "2022-04-02T11:17:34.704050Z",
     "iopub.status.busy": "2022-04-02T11:17:34.703166Z",
     "iopub.status.idle": "2022-04-02T11:17:35.857304Z",
     "shell.execute_reply": "2022-04-02T11:17:35.856667Z",
     "shell.execute_reply.started": "2022-04-02T11:15:44.571840Z"
    },
    "papermill": {
     "duration": 1.193576,
     "end_time": "2022-04-02T11:17:35.857467",
     "exception": false,
     "start_time": "2022-04-02T11:17:34.663891",
     "status": "completed"
    },
    "tags": []
   },
   "outputs": [
    {
     "data": {
      "image/png": "[encoded data removed]",
      "text/plain": [
       "<Figure size 1152x432 with 2 Axes>"
      ]
     },
     "metadata": {
      "needs_background": "light"
     },
     "output_type": "display_data"
    }
   ],
   "source": [
    "# plots of Survivals based on Features - Age , Fare\n",
    "plt.figure(figsize = (16,6))\n",
    "\n",
    "plt.subplot(121)\n",
    "sns.histplot(data=train_data,x='Age',hue='Survived',kde=True)\n",
    "plt.subplot(122)\n",
    "sns.histplot(data=train_data,x='Fare',hue='Survived',kde=True)\n",
    "\n",
    "plt.show()"
   ]
  },
  {
   "cell_type": "markdown",
   "id": "de7157a3",
   "metadata": {
    "papermill": {
     "duration": 0.037883,
     "end_time": "2022-04-02T11:17:35.934193",
     "exception": false,
     "start_time": "2022-04-02T11:17:35.896310",
     "status": "completed"
    },
    "tags": []
   },
   "source": [
    "**Feature Classification**\n",
    "* Pclass, Age, Sibsp, Parch, Fare - Numeric features\n",
    "* Embarked, Sex                   - Categorical features"
   ]
  },
  {
   "cell_type": "code",
   "execution_count": 10,
   "id": "12b4ec77",
   "metadata": {
    "execution": {
     "iopub.execute_input": "2022-04-02T11:17:36.018580Z",
     "iopub.status.busy": "2022-04-02T11:17:36.017807Z",
     "iopub.status.idle": "2022-04-02T11:17:36.406991Z",
     "shell.execute_reply": "2022-04-02T11:17:36.406343Z",
     "shell.execute_reply.started": "2022-04-02T10:59:34.217370Z"
    },
    "papermill": {
     "duration": 0.435269,
     "end_time": "2022-04-02T11:17:36.407138",
     "exception": false,
     "start_time": "2022-04-02T11:17:35.971869",
     "status": "completed"
    },
    "tags": []
   },
   "outputs": [
    {
     "data": {
      "image/png": "[encoded data removed]",
      "text/plain": [
       "<Figure size 432x432 with 2 Axes>"
      ]
     },
     "metadata": {
      "needs_background": "light"
     },
     "output_type": "display_data"
    }
   ],
   "source": [
    "# Corelation heatmap for numeric features\n",
    "\n",
    "plt.figure(figsize=(6,6))\n",
    "sns.heatmap(train_data[['Survived', 'Pclass', 'Age', 'SibSp', 'Parch', 'Fare']].corr(),annot=True)\n",
    "plt.show()"
   ]
  },
  {
   "cell_type": "markdown",
   "id": "6fe6b73f",
   "metadata": {
    "papermill": {
     "duration": 0.040068,
     "end_time": "2022-04-02T11:17:36.485984",
     "exception": false,
     "start_time": "2022-04-02T11:17:36.445916",
     "status": "completed"
    },
    "tags": []
   },
   "source": [
    "* Features Pclass,Age and SibSp have negative correlation with Survived.\n",
    "* Features Parch and Fare have positive correlation."
   ]
  },
  {
   "cell_type": "markdown",
   "id": "c57f9403",
   "metadata": {
    "papermill": {
     "duration": 0.038679,
     "end_time": "2022-04-02T11:17:36.563278",
     "exception": false,
     "start_time": "2022-04-02T11:17:36.524599",
     "status": "completed"
    },
    "tags": []
   },
   "source": [
    "# Data Preprocessing"
   ]
  },
  {
   "cell_type": "markdown",
   "id": "5363bd02",
   "metadata": {
    "papermill": {
     "duration": 0.038416,
     "end_time": "2022-04-02T11:17:36.640409",
     "exception": false,
     "start_time": "2022-04-02T11:17:36.601993",
     "status": "completed"
    },
    "tags": []
   },
   "source": [
    "**Feature Selection**"
   ]
  },
  {
   "cell_type": "code",
   "execution_count": 11,
   "id": "44d2f147",
   "metadata": {
    "execution": {
     "iopub.execute_input": "2022-04-02T11:17:36.723732Z",
     "iopub.status.busy": "2022-04-02T11:17:36.723000Z",
     "iopub.status.idle": "2022-04-02T11:17:36.726979Z",
     "shell.execute_reply": "2022-04-02T11:17:36.727503Z",
     "shell.execute_reply.started": "2022-04-02T10:59:34.596660Z"
    },
    "papermill": {
     "duration": 0.048365,
     "end_time": "2022-04-02T11:17:36.727680",
     "exception": false,
     "start_time": "2022-04-02T11:17:36.679315",
     "status": "completed"
    },
    "tags": []
   },
   "outputs": [],
   "source": [
    "#Training set\n",
    "X_train = train_data.drop(['Survived','PassengerId','Name','Cabin','Ticket'],axis=1)\n",
    "y_train = train_data['Survived']"
   ]
  },
  {
   "cell_type": "code",
   "execution_count": 12,
   "id": "4b5262b8",
   "metadata": {
    "execution": {
     "iopub.execute_input": "2022-04-02T11:17:36.814662Z",
     "iopub.status.busy": "2022-04-02T11:17:36.813987Z",
     "iopub.status.idle": "2022-04-02T11:17:36.816339Z",
     "shell.execute_reply": "2022-04-02T11:17:36.816889Z",
     "shell.execute_reply.started": "2022-04-02T10:59:34.605239Z"
    },
    "papermill": {
     "duration": 0.048852,
     "end_time": "2022-04-02T11:17:36.817064",
     "exception": false,
     "start_time": "2022-04-02T11:17:36.768212",
     "status": "completed"
    },
    "tags": []
   },
   "outputs": [],
   "source": [
    "#Testing set\n",
    "X_test = test_data.drop(['PassengerId','Name','Cabin','Ticket'],axis=1)"
   ]
  },
  {
   "cell_type": "markdown",
   "id": "3f99e740",
   "metadata": {
    "papermill": {
     "duration": 0.038759,
     "end_time": "2022-04-02T11:17:36.894913",
     "exception": false,
     "start_time": "2022-04-02T11:17:36.856154",
     "status": "completed"
    },
    "tags": []
   },
   "source": [
    "**Encoding of Categorical features - Sex & Embarked**"
   ]
  },
  {
   "cell_type": "code",
   "execution_count": 13,
   "id": "daa1b106",
   "metadata": {
    "execution": {
     "iopub.execute_input": "2022-04-02T11:17:36.977122Z",
     "iopub.status.busy": "2022-04-02T11:17:36.976445Z",
     "iopub.status.idle": "2022-04-02T11:17:37.145281Z",
     "shell.execute_reply": "2022-04-02T11:17:37.144559Z",
     "shell.execute_reply.started": "2022-04-02T10:59:34.618344Z"
    },
    "papermill": {
     "duration": 0.21109,
     "end_time": "2022-04-02T11:17:37.145445",
     "exception": false,
     "start_time": "2022-04-02T11:17:36.934355",
     "status": "completed"
    },
    "tags": []
   },
   "outputs": [],
   "source": [
    "from sklearn.preprocessing import OrdinalEncoder\n",
    "\n",
    "X_train[\"Embarked\"].fillna( method ='ffill', inplace = True)\n",
    "encoder = OrdinalEncoder()\n",
    "encoder_train = pd.DataFrame(encoder.fit_transform(X_train[['Sex','Embarked']]),columns=['Sex','Embarked'])\n",
    "encoder_test = pd.DataFrame(encoder.transform(X_test[['Sex','Embarked']]),columns=['Sex','Embarked'])\n",
    "\n",
    "X_train = pd.concat([X_train.drop(['Sex','Embarked'],axis=1),encoder_train],axis=1)\n",
    "X_test = pd.concat([X_test.drop(['Sex','Embarked'],axis=1),encoder_test],axis=1)"
   ]
  },
  {
   "cell_type": "markdown",
   "id": "6a20bead",
   "metadata": {
    "papermill": {
     "duration": 0.040181,
     "end_time": "2022-04-02T11:17:37.224924",
     "exception": false,
     "start_time": "2022-04-02T11:17:37.184743",
     "status": "completed"
    },
    "tags": []
   },
   "source": [
    "**Imputation of Age feature**"
   ]
  },
  {
   "cell_type": "code",
   "execution_count": 14,
   "id": "8d5b7681",
   "metadata": {
    "execution": {
     "iopub.execute_input": "2022-04-02T11:17:37.310801Z",
     "iopub.status.busy": "2022-04-02T11:17:37.310104Z",
     "iopub.status.idle": "2022-04-02T11:17:37.553237Z",
     "shell.execute_reply": "2022-04-02T11:17:37.554231Z",
     "shell.execute_reply.started": "2022-04-02T10:59:34.637704Z"
    },
    "papermill": {
     "duration": 0.290583,
     "end_time": "2022-04-02T11:17:37.554555",
     "exception": false,
     "start_time": "2022-04-02T11:17:37.263972",
     "status": "completed"
    },
    "tags": []
   },
   "outputs": [],
   "source": [
    "from sklearn.impute import KNNImputer\n",
    "features = [col for col in X_train.columns]\n",
    "\n",
    "# using KNN Imputer with K=3\n",
    "imputer = KNNImputer(n_neighbors=3, weights='uniform', metric='nan_euclidean')\n",
    "X_train = pd.DataFrame(imputer.fit_transform(X_train),columns=features)\n",
    "X_test = pd.DataFrame(imputer.fit_transform(X_test),columns=features)"
   ]
  },
  {
   "cell_type": "markdown",
   "id": "b37559c0",
   "metadata": {
    "papermill": {
     "duration": 0.045575,
     "end_time": "2022-04-02T11:17:37.678775",
     "exception": false,
     "start_time": "2022-04-02T11:17:37.633200",
     "status": "completed"
    },
    "tags": []
   },
   "source": [
    "**Feature Scaling**"
   ]
  },
  {
   "cell_type": "code",
   "execution_count": 15,
   "id": "9b854d49",
   "metadata": {
    "execution": {
     "iopub.execute_input": "2022-04-02T11:17:37.764466Z",
     "iopub.status.busy": "2022-04-02T11:17:37.763753Z",
     "iopub.status.idle": "2022-04-02T11:17:37.771308Z",
     "shell.execute_reply": "2022-04-02T11:17:37.771831Z",
     "shell.execute_reply.started": "2022-04-02T10:59:34.680851Z"
    },
    "papermill": {
     "duration": 0.053688,
     "end_time": "2022-04-02T11:17:37.772017",
     "exception": false,
     "start_time": "2022-04-02T11:17:37.718329",
     "status": "completed"
    },
    "tags": []
   },
   "outputs": [],
   "source": [
    "from sklearn.preprocessing import StandardScaler\n",
    "scaler = StandardScaler()\n",
    "X_train = pd.DataFrame(scaler.fit_transform(X_train),columns = features)\n",
    "X_test = pd.DataFrame(scaler.transform(X_test),columns = features)"
   ]
  },
  {
   "cell_type": "markdown",
   "id": "8f6bbf40",
   "metadata": {
    "papermill": {
     "duration": 0.03876,
     "end_time": "2022-04-02T11:17:37.850037",
     "exception": false,
     "start_time": "2022-04-02T11:17:37.811277",
     "status": "completed"
    },
    "tags": []
   },
   "source": [
    "**K-value Selection**\n",
    "* Looping from 2 to Sqrt(N) , Where N is the total size of train_data.\n",
    "* K-Value with least error is selected."
   ]
  },
  {
   "cell_type": "code",
   "execution_count": 16,
   "id": "2392b494",
   "metadata": {
    "execution": {
     "iopub.execute_input": "2022-04-02T11:17:37.932454Z",
     "iopub.status.busy": "2022-04-02T11:17:37.931705Z",
     "iopub.status.idle": "2022-04-02T11:17:39.109145Z",
     "shell.execute_reply": "2022-04-02T11:17:39.109663Z",
     "shell.execute_reply.started": "2022-04-02T10:59:34.699148Z"
    },
    "papermill": {
     "duration": 1.220062,
     "end_time": "2022-04-02T11:17:39.109873",
     "exception": false,
     "start_time": "2022-04-02T11:17:37.889811",
     "status": "completed"
    },
    "tags": []
   },
   "outputs": [
    {
     "data": {
      "text/plain": [
       "[0.12457912457912458,\n",
       " 0.11784511784511785,\n",
       " 0.13468013468013468,\n",
       " 0.13019079685746351,\n",
       " 0.15600448933782268,\n",
       " 0.15600448933782268,\n",
       " 0.14590347923681257,\n",
       " 0.15712682379349047,\n",
       " 0.16947250280583614,\n",
       " 0.16947250280583614,\n",
       " 0.16947250280583614,\n",
       " 0.1717171717171717,\n",
       " 0.1638608305274972,\n",
       " 0.16722783389450055,\n",
       " 0.16947250280583614,\n",
       " 0.17059483726150393,\n",
       " 0.1750841750841751,\n",
       " 0.1739618406285073,\n",
       " 0.17620650953984288,\n",
       " 0.1739618406285073,\n",
       " 0.17732884399551066,\n",
       " 0.17620650953984288,\n",
       " 0.18069584736251404,\n",
       " 0.17732884399551066,\n",
       " 0.17957351290684623,\n",
       " 0.17845117845117844,\n",
       " 0.1750841750841751]"
      ]
     },
     "execution_count": 16,
     "metadata": {},
     "output_type": "execute_result"
    }
   ],
   "source": [
    "from sklearn.neighbors import KNeighborsClassifier\n",
    "error_rate=[]#list that will store the average error rate value of k\n",
    "k_values=[]\n",
    "for i in range (2,int(np.sqrt(len(X_train)))):  #Took the range of k from 2 to Sqrt(len(train_data))\n",
    "    clf=KNeighborsClassifier(n_neighbors=i)\n",
    "    clf.fit(X_train,y_train)\n",
    "    predict_i=clf.predict(X_train)\n",
    "    error_rate.append(np.mean(predict_i!=y_train))\n",
    "    k_values.append(i)\n",
    "error_rate"
   ]
  },
  {
   "cell_type": "code",
   "execution_count": 17,
   "id": "d954ddea",
   "metadata": {
    "execution": {
     "iopub.execute_input": "2022-04-02T11:17:39.216621Z",
     "iopub.status.busy": "2022-04-02T11:17:39.192829Z",
     "iopub.status.idle": "2022-04-02T11:17:39.438493Z",
     "shell.execute_reply": "2022-04-02T11:17:39.437912Z",
     "shell.execute_reply.started": "2022-04-02T10:59:35.914484Z"
    },
    "papermill": {
     "duration": 0.289142,
     "end_time": "2022-04-02T11:17:39.438651",
     "exception": false,
     "start_time": "2022-04-02T11:17:39.149509",
     "status": "completed"
    },
    "tags": []
   },
   "outputs": [
    {
     "data": {
      "image/png": "[encoded data removed]",
      "text/plain": [
       "<Figure size 864x432 with 1 Axes>"
      ]
     },
     "metadata": {
      "needs_background": "light"
     },
     "output_type": "display_data"
    }
   ],
   "source": [
    "#plotting the error rate vs k graph \n",
    "k_end = int(np.sqrt(len(X_train)))\n",
    "plt.figure(figsize=(12,6))\n",
    "plt.plot(range(2,k_end),error_rate,marker=\"o\",markerfacecolor=\"green\",\n",
    "         linestyle=\"dashed\",color=\"red\",markersize=15)\n",
    "plt.title(\"Error rate vs k value\",fontsize=20)\n",
    "plt.xlabel(\"k- values\",fontsize=20)\n",
    "plt.ylabel(\"error rate\",fontsize=20)\n",
    "plt.xticks(range(2,k_end))\n",
    "plt.show()"
   ]
  },
  {
   "cell_type": "code",
   "execution_count": 18,
   "id": "da974d6d",
   "metadata": {
    "execution": {
     "iopub.execute_input": "2022-04-02T11:17:39.524996Z",
     "iopub.status.busy": "2022-04-02T11:17:39.523376Z",
     "iopub.status.idle": "2022-04-02T11:17:39.528184Z",
     "shell.execute_reply": "2022-04-02T11:17:39.527548Z",
     "shell.execute_reply.started": "2022-04-02T10:59:36.201145Z"
    },
    "papermill": {
     "duration": 0.048732,
     "end_time": "2022-04-02T11:17:39.528328",
     "exception": false,
     "start_time": "2022-04-02T11:17:39.479596",
     "status": "completed"
    },
    "tags": []
   },
   "outputs": [],
   "source": [
    "# K-value\n",
    "k = k_values[np.argmin(error_rate)]"
   ]
  },
  {
   "cell_type": "markdown",
   "id": "60685821",
   "metadata": {
    "papermill": {
     "duration": 0.040694,
     "end_time": "2022-04-02T11:17:39.610256",
     "exception": false,
     "start_time": "2022-04-02T11:17:39.569562",
     "status": "completed"
    },
    "tags": []
   },
   "source": [
    "# Modelling"
   ]
  },
  {
   "cell_type": "code",
   "execution_count": 19,
   "id": "b6c505d0",
   "metadata": {
    "execution": {
     "iopub.execute_input": "2022-04-02T11:17:39.697106Z",
     "iopub.status.busy": "2022-04-02T11:17:39.696331Z",
     "iopub.status.idle": "2022-04-02T11:17:39.698010Z",
     "shell.execute_reply": "2022-04-02T11:17:39.698519Z",
     "shell.execute_reply.started": "2022-04-02T10:59:36.207818Z"
    },
    "papermill": {
     "duration": 0.047844,
     "end_time": "2022-04-02T11:17:39.698847",
     "exception": false,
     "start_time": "2022-04-02T11:17:39.651003",
     "status": "completed"
    },
    "tags": []
   },
   "outputs": [],
   "source": [
    "# Model definition\n",
    "# Setting nearest neighbours size to 3\n",
    "from sklearn.neighbors import KNeighborsClassifier\n",
    "neigh = KNeighborsClassifier(n_neighbors=k)"
   ]
  },
  {
   "cell_type": "code",
   "execution_count": 20,
   "id": "3fc355f0",
   "metadata": {
    "execution": {
     "iopub.execute_input": "2022-04-02T11:17:39.785675Z",
     "iopub.status.busy": "2022-04-02T11:17:39.784830Z",
     "iopub.status.idle": "2022-04-02T11:17:39.794704Z",
     "shell.execute_reply": "2022-04-02T11:17:39.795237Z",
     "shell.execute_reply.started": "2022-04-02T10:59:36.219743Z"
    },
    "papermill": {
     "duration": 0.055544,
     "end_time": "2022-04-02T11:17:39.795431",
     "exception": false,
     "start_time": "2022-04-02T11:17:39.739887",
     "status": "completed"
    },
    "tags": []
   },
   "outputs": [
    {
     "data": {
      "text/plain": [
       "KNeighborsClassifier(n_neighbors=3)"
      ]
     },
     "execution_count": 20,
     "metadata": {},
     "output_type": "execute_result"
    }
   ],
   "source": [
    "#Fitting on final model\n",
    "neigh.fit(X_train,y_train)"
   ]
  },
  {
   "cell_type": "code",
   "execution_count": 21,
   "id": "39a449ff",
   "metadata": {
    "execution": {
     "iopub.execute_input": "2022-04-02T11:17:39.884916Z",
     "iopub.status.busy": "2022-04-02T11:17:39.884146Z",
     "iopub.status.idle": "2022-04-02T11:17:39.942378Z",
     "shell.execute_reply": "2022-04-02T11:17:39.941794Z",
     "shell.execute_reply.started": "2022-04-02T10:59:36.235499Z"
    },
    "papermill": {
     "duration": 0.106073,
     "end_time": "2022-04-02T11:17:39.942549",
     "exception": false,
     "start_time": "2022-04-02T11:17:39.836476",
     "status": "completed"
    },
    "tags": []
   },
   "outputs": [],
   "source": [
    "#predictions on train and test\n",
    "y_pred_train = neigh.predict(X_train)\n",
    "y_pred_test = pd.DataFrame(neigh.predict(X_test),columns=['Survived'])"
   ]
  },
  {
   "cell_type": "markdown",
   "id": "70c0a515",
   "metadata": {
    "papermill": {
     "duration": 0.041858,
     "end_time": "2022-04-02T11:17:40.025560",
     "exception": false,
     "start_time": "2022-04-02T11:17:39.983702",
     "status": "completed"
    },
    "tags": []
   },
   "source": [
    "# Evaluation"
   ]
  },
  {
   "cell_type": "code",
   "execution_count": 22,
   "id": "8182e89d",
   "metadata": {
    "execution": {
     "iopub.execute_input": "2022-04-02T11:17:40.111273Z",
     "iopub.status.busy": "2022-04-02T11:17:40.110613Z",
     "iopub.status.idle": "2022-04-02T11:17:40.122226Z",
     "shell.execute_reply": "2022-04-02T11:17:40.122804Z",
     "shell.execute_reply.started": "2022-04-02T10:59:36.300308Z"
    },
    "papermill": {
     "duration": 0.056315,
     "end_time": "2022-04-02T11:17:40.122983",
     "exception": false,
     "start_time": "2022-04-02T11:17:40.066668",
     "status": "completed"
    },
    "tags": []
   },
   "outputs": [
    {
     "name": "stdout",
     "output_type": "stream",
     "text": [
      "Classification Report on Train Data \n",
      "\n",
      "               precision    recall  f1-score   support\n",
      "\n",
      "           0       0.89      0.93      0.91       549\n",
      "           1       0.88      0.81      0.84       342\n",
      "\n",
      "    accuracy                           0.88       891\n",
      "   macro avg       0.88      0.87      0.87       891\n",
      "weighted avg       0.88      0.88      0.88       891\n",
      "\n"
     ]
    }
   ],
   "source": [
    "# Classification Report on train data set\n",
    "from sklearn.metrics import classification_report\n",
    "print('Classification Report on Train Data','\\n\\n',classification_report(y_train,y_pred_train))"
   ]
  },
  {
   "cell_type": "code",
   "execution_count": 23,
   "id": "ec356f7f",
   "metadata": {
    "execution": {
     "iopub.execute_input": "2022-04-02T11:17:40.210856Z",
     "iopub.status.busy": "2022-04-02T11:17:40.210018Z",
     "iopub.status.idle": "2022-04-02T11:17:40.219441Z",
     "shell.execute_reply": "2022-04-02T11:17:40.220060Z",
     "shell.execute_reply.started": "2022-04-02T10:59:36.313517Z"
    },
    "papermill": {
     "duration": 0.055483,
     "end_time": "2022-04-02T11:17:40.220242",
     "exception": false,
     "start_time": "2022-04-02T11:17:40.164759",
     "status": "completed"
    },
    "tags": []
   },
   "outputs": [],
   "source": [
    "# Submissions\n",
    "submissions = pd.concat([test_data.PassengerId,y_pred_test],axis=1)\n",
    "submissions.to_csv('submission.csv',index=False)"
   ]
  }
 ],
 "metadata": {
  "kernelspec": {
   "display_name": "Python 3 (ipykernel)",
   "language": "python",
   "name": "python3"
  },
  "language_info": {
   "codemirror_mode": {
    "name": "ipython",
    "version": 3
   },
   "file_extension": ".py",
   "mimetype": "text/x-python",
   "name": "python",
   "nbconvert_exporter": "python",
   "pygments_lexer": "ipython3",
   "version": "3.9.7"
  },
  "papermill": {
   "default_parameters": {},
   "duration": 20.631463,
   "end_time": "2022-04-02T11:17:41.073950",
   "environment_variables": {},
   "exception": null,
   "input_path": "__notebook__.ipynb",
   "output_path": "__notebook__.ipynb",
   "parameters": {},
   "start_time": "2022-04-02T11:17:20.442487",
   "version": "2.3.3"
  }
 },
 "nbformat": 4,
 "nbformat_minor": 5
}
